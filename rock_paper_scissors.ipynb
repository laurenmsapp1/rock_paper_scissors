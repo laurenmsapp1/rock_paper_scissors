{
 "cells": [
  {
   "cell_type": "code",
   "execution_count": null,
   "id": "dc8904df",
   "metadata": {},
   "outputs": [],
   "source": [
    "import random\n",
    "\n",
    "mylist = [\"rock\", \"paper\", \"scissors\"]\n",
    "computer_choice = random.choice(mylist)\n",
    "\n",
    "user_answer = input(\"rock, paper, or scissors? \").lower()\n",
    "\n",
    "print(f\"Computer chose: {computer_choice}\")\n",
    "print(f\"You chose: {user_answer}\")\n",
    "\n",
    "if user_answer == computer_choice:\n",
    "    print(\"It is a tie!\")\n",
    "elif (user_answer == \"rock\" and computer_choice == \"scissors\") or \\\n",
    "     (user_answer == \"scissors\" and computer_choice == \"paper\") or \\\n",
    "     (user_answer == \"paper\" and computer_choice == \"rock\"):\n",
    "    print(\"You win!\")\n",
    "elif user_answer in mylist:\n",
    "    print(\"Computer wins!\")\n",
    "else:\n",
    "    print(\"Invalid input. Please choose rock, paper, or scissors.\")"
   ]
  }
 ],
 "metadata": {
  "kernelspec": {
   "display_name": "Python 3",
   "language": "python",
   "name": "python3"
  },
  "language_info": {
   "codemirror_mode": {
    "name": "ipython",
    "version": 3
   },
   "file_extension": ".py",
   "mimetype": "text/x-python",
   "name": "python",
   "nbconvert_exporter": "python",
   "pygments_lexer": "ipython3",
   "version": "3.13.5"
  }
 },
 "nbformat": 4,
 "nbformat_minor": 5
}
